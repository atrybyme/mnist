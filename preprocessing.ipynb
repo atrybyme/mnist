{
 "cells": [
  {
   "cell_type": "code",
   "execution_count": 4,
   "metadata": {},
   "outputs": [],
   "source": [
    "import numpy as np"
   ]
  },
  {
   "cell_type": "code",
   "execution_count": 1,
   "metadata": {},
   "outputs": [],
   "source": [
    "##X is input matrix and value is the number of features you want in the data after PCA\n",
    "def PCA(X,value):\n",
    "    ##take data as n*m matrix. n is number of example,m id dimension of each example\n",
    "    mean =np.mean(X,axis=0)\n",
    "    X_m = X-mean\n",
    "    ##covariance matrix\n",
    "    covX = np.dot(np.transpose(X_m),X_m)\n",
    "    conX = covX/(np.shape(X)[0])\n",
    "    #get eagen value and corresoponding eagen vector\n",
    "    featurevec = []\n",
    "    eagenval,eagenvec = np.linalg.eig(conX)\n",
    "    a = np.argmax(eagenval)\n",
    "    featurevec = np.array([eagenvec[:,a]])\n",
    "    eagenval = np.delete(eagenval,a)\n",
    "    for i in range(value-1):\n",
    "        a = np.argmax(eagenval)\n",
    "        featurevec = np.append(featurevec,[eagenvec[:,a]],axis=0)\n",
    "        eagenval = np.delete(eagenval,a)\n",
    "    featurevecT = np.transpose(featurevec)\n",
    "    return np.dot(X_m,featurevecT)"
   ]
  },
  {
   "cell_type": "code",
   "execution_count": 3,
   "metadata": {},
   "outputs": [],
   "source": [
    "##take x_train and amount,if pixel_value>amount make pixel_value = 1 otherwise pixel_value = 0\n",
    "def pixelthresholdfilter(x_train,amount):\n",
    "    image_number=1\n",
    "    mtr = x_train>amount\n",
    "    mtr = mtr*1\n",
    "    return mtr"
   ]
  },
  {
   "cell_type": "code",
   "execution_count": null,
   "metadata": {},
   "outputs": [],
   "source": []
  }
 ],
 "metadata": {
  "kernelspec": {
   "display_name": "Python 3",
   "language": "python",
   "name": "python3"
  },
  "language_info": {
   "codemirror_mode": {
    "name": "ipython",
    "version": 3
   },
   "file_extension": ".py",
   "mimetype": "text/x-python",
   "name": "python",
   "nbconvert_exporter": "python",
   "pygments_lexer": "ipython3",
   "version": "3.5.2"
  }
 },
 "nbformat": 4,
 "nbformat_minor": 2
}
