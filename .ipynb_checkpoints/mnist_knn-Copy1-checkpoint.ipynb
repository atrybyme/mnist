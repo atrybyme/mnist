{
 "cells": [
  {
   "cell_type": "code",
   "execution_count": 1,
   "metadata": {},
   "outputs": [],
   "source": [
    "#import required libraries\n",
    "from random import *\n",
    "from matplotlib import pyplot as plt\n",
    "import numpy as np\n",
    "import math\n",
    "from collections import Counter\n"
   ]
  },
  {
   "cell_type": "code",
   "execution_count": 3,
   "metadata": {},
   "outputs": [],
   "source": [
    "#define the distatnce function\n",
    "def distance(x1,x):\n",
    "    a = x-x1\n",
    "    a = np.square(a)\n",
    "    dis = np.sqrt(np.sum(a,axis=1))\n",
    "    return dis"
   ]
  },
  {
   "cell_type": "code",
   "execution_count": 4,
   "metadata": {},
   "outputs": [],
   "source": [
    "#add a filter which gives us binary image\n",
    "def preprocessed(x_train,amount):\n",
    "    image_number=1\n",
    "    mtr = x_train>amount\n",
    "    mtr = mtr*1\n",
    "    return mtr"
   ]
  },
  {
   "cell_type": "code",
   "execution_count": 5,
   "metadata": {},
   "outputs": [],
   "source": [
    "#Define the knn prediction function \n",
    "def result(dis,y,k):\n",
    "    a = np.argpartition(dis,k)\n",
    "    b = []\n",
    "    for i in range(k):\n",
    "        b = np.append(b,y[a[i]]) \n",
    "    b = b.astype(int)\n",
    "    d = list(Counter(b).items())\n",
    "    e = len(d)\n",
    "    for j in range(e):\n",
    "        d[j] = list(d[j])\n",
    "    d = np.array(d)\n",
    "    e = np.argmax(d[:,1])\n",
    "    r = d[e,0]\n",
    "    return r"
   ]
  },
  {
   "cell_type": "code",
   "execution_count": 6,
   "metadata": {},
   "outputs": [],
   "source": [
    "#import the data from csv file containing 42000 labelled examples\n",
    "_data_raw = (np.genfromtxt('train.csv',delimiter=','))[1:]\n",
    "#shufle the data\n",
    "import sklearn\n",
    "x_tr,y = sklearn.utils.shuffle((_data_raw[:,1:])/255,_data_raw[:,0])"
   ]
  },
  {
   "cell_type": "code",
   "execution_count": 25,
   "metadata": {},
   "outputs": [],
   "source": [
    "#applying the filter over the data and splitting the data into training and testing\n",
    "x_train = preprocessed(x_tr[0:41000],136.0/255.0)\n",
    "y_train = y[0:41000]\n",
    "x_test = preprocessed(x_tr[41000:42000],136.0/255.0)\n",
    "y_test = y[41000:42000]"
   ]
  },
  {
   "cell_type": "code",
   "execution_count": 26,
   "metadata": {},
   "outputs": [],
   "source": [
    "#choose the value of k in k nearest neighbours\n",
    "k= 100\n",
    "prediction = []"
   ]
  },
  {
   "cell_type": "code",
   "execution_count": 27,
   "metadata": {
    "scrolled": true
   },
   "outputs": [
    {
     "name": "stdout",
     "output_type": "stream",
     "text": [
      "Runing... \n",
      "Completed\n"
     ]
    }
   ],
   "source": [
    "\n",
    "print(\"Runing... \")\n",
    "for i in range(1000):\n",
    "    dis_of_xi = distance(x_test[i],x_train)\n",
    "    p = result(dis_of_xi,y_train,k)\n",
    "    prediction = np.append(prediction,p)\n",
    "test_prediction = np.transpose(prediction)\n",
    "print(\"Completed\")"
   ]
  },
  {
   "cell_type": "code",
   "execution_count": 29,
   "metadata": {},
   "outputs": [
    {
     "name": "stdout",
     "output_type": "stream",
     "text": [
      "ACCURACY ON Testing sET 89.5\n"
     ]
    }
   ],
   "source": [
    "#test your accuracy\n",
    "e = (np.equal(test_prediction,y_test))*1\n",
    "print(\"ACCURACY ON Testing sET\",((np.sum(e))/len(y_test))*100)"
   ]
  },
  {
   "cell_type": "code",
   "execution_count": 19,
   "metadata": {},
   "outputs": [
    {
     "data": {
      "text/plain": [
       "<matplotlib.image.AxesImage at 0x7fe6e1a10208>"
      ]
     },
     "execution_count": 19,
     "metadata": {},
     "output_type": "execute_result"
    },
    {
     "data": {
      "image/png": "[encoded data removed]",
      "text/plain": [
       "<matplotlib.figure.Figure at 0x7fe7332537b8>"
      ]
     },
     "metadata": {},
     "output_type": "display_data"
    }
   ],
   "source": [
    "#visualize the data \n",
    "a = x_test[1]\n",
    "a = np.reshape(a,(28,28))\n",
    "%matplotlib inline\n",
    "plt.imshow(a)"
   ]
  },
  {
   "cell_type": "code",
   "execution_count": null,
   "metadata": {},
   "outputs": [],
   "source": []
  },
  {
   "cell_type": "code",
   "execution_count": null,
   "metadata": {},
   "outputs": [],
   "source": []
  },
  {
   "cell_type": "code",
   "execution_count": 157,
   "metadata": {},
   "outputs": [],
   "source": []
  },
  {
   "cell_type": "code",
   "execution_count": null,
   "metadata": {},
   "outputs": [],
   "source": []
  },
  {
   "cell_type": "code",
   "execution_count": null,
   "metadata": {},
   "outputs": [],
   "source": []
  }
 ],
 "metadata": {
  "kernelspec": {
   "display_name": "Python 3",
   "language": "python",
   "name": "python3"
  },
  "language_info": {
   "codemirror_mode": {
    "name": "ipython",
    "version": 3
   },
   "file_extension": ".py",
   "mimetype": "text/x-python",
   "name": "python",
   "nbconvert_exporter": "python",
   "pygments_lexer": "ipython3",
   "version": "3.5.2"
  }
 },
 "nbformat": 4,
 "nbformat_minor": 2
}
