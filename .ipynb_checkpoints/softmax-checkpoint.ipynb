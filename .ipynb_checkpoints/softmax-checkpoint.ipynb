{
 "cells": [
  {
   "cell_type": "code",
   "execution_count": 8,
   "metadata": {},
   "outputs": [],
   "source": [
    "\n",
    "from random import *\n",
    "import numpy as np\n",
    "import pandas as pd\n",
    "import matplotlib as mt\n",
    "import preprocessing as pr"
   ]
  },
  {
   "cell_type": "code",
   "execution_count": 9,
   "metadata": {},
   "outputs": [],
   "source": [
    "def y_usable(y):\n",
    "    y_1 = np.ones((len(y),1))\n",
    "    th = np.array([0,1,2,3,4,5,6,7,8,9])\n",
    "    y_2 = y_1*th\n",
    "    y_3 = np.reshape(y,(len(y),1))\n",
    "    y_4= (np.equal(y_2,y_3))*1\n",
    "    return y_4\n",
    "\n",
    "\n",
    "def hypothesis(x_train,theta,bias):\n",
    "    a = np.dot(x_train,theta)\n",
    "    a = np.exp(a+bias)\n",
    "    b = np.sum(a,axis=1)\n",
    "    a = a/np.reshape(b,(len(b),1))\n",
    "    return a\n",
    "\n",
    "\n",
    "\n",
    "def cross_entropy(x,y,theta,bias):\n",
    "    h = hypothesis(x,theta,bias)\n",
    "    e = np.log(h)\n",
    "    y_1 = y_usable(y)\n",
    "    return np.sum(np.sum(np.multiply(y_1,e)))\n",
    "\n",
    "\n",
    "\n",
    "def del_cross_entropy(x,y,theta,bias):\n",
    "    m = len(y)\n",
    "    h = hypothesis(x,theta,bias)\n",
    "    y_1 = y_usable(y)\n",
    "    a = h-y_1\n",
    "    x_tr = np.transpose(x)\n",
    "    d = (np.dot(x_tr,a))/m\n",
    "    return d\n",
    "\n",
    "\n",
    "\n",
    "def del_cross_entr_bias(x,y,theta,bias):\n",
    "    m = len(y)\n",
    "    h = hypothesis(x,theta,bias)\n",
    "    y_1 = y_usable(y)\n",
    "    a = h-y_1\n",
    "    d = (np.sum(a,axis=0))/m\n",
    "    return d\n"
   ]
  },
  {
   "cell_type": "code",
   "execution_count": 10,
   "metadata": {},
   "outputs": [
    {
     "ename": "AttributeError",
     "evalue": "module 'preprocessing' has no attribute 'pixelthresholdfilter'",
     "output_type": "error",
     "traceback": [
      "\u001b[0;31m---------------------------------------------------------------------------\u001b[0m",
      "\u001b[0;31mAttributeError\u001b[0m                            Traceback (most recent call last)",
      "\u001b[0;32m<ipython-input-10-6c8e2eb8bb4b>\u001b[0m in \u001b[0;36m<module>\u001b[0;34m()\u001b[0m\n\u001b[1;32m      6\u001b[0m \u001b[0mx_tr\u001b[0m\u001b[0;34m,\u001b[0m\u001b[0my_train\u001b[0m \u001b[0;34m=\u001b[0m \u001b[0;34m(\u001b[0m\u001b[0mtraining_data_raw\u001b[0m\u001b[0;34m[\u001b[0m\u001b[0;36m0\u001b[0m\u001b[0;34m:\u001b[0m\u001b[0;36m40000\u001b[0m\u001b[0;34m,\u001b[0m\u001b[0;36m1\u001b[0m\u001b[0;34m:\u001b[0m\u001b[0;34m]\u001b[0m\u001b[0;34m)\u001b[0m\u001b[0;34m,\u001b[0m\u001b[0mtraining_data_raw\u001b[0m\u001b[0;34m[\u001b[0m\u001b[0;36m0\u001b[0m\u001b[0;34m:\u001b[0m\u001b[0;36m40000\u001b[0m\u001b[0;34m,\u001b[0m\u001b[0;36m0\u001b[0m\u001b[0;34m]\u001b[0m\u001b[0;34m\u001b[0m\u001b[0m\n\u001b[1;32m      7\u001b[0m \u001b[0mclasses\u001b[0m \u001b[0;34m=\u001b[0m \u001b[0;36m10\u001b[0m\u001b[0;34m\u001b[0m\u001b[0m\n\u001b[0;32m----> 8\u001b[0;31m \u001b[0mx_tr\u001b[0m \u001b[0;34m=\u001b[0m \u001b[0mpr\u001b[0m\u001b[0;34m.\u001b[0m\u001b[0mpixelthresholdfilter\u001b[0m\u001b[0;34m(\u001b[0m\u001b[0mx_tr\u001b[0m\u001b[0;34m,\u001b[0m\u001b[0;36m147\u001b[0m\u001b[0;34m)\u001b[0m\u001b[0;34m\u001b[0m\u001b[0m\n\u001b[0m\u001b[1;32m      9\u001b[0m \u001b[0mx_train\u001b[0m \u001b[0;34m=\u001b[0m \u001b[0mpr\u001b[0m\u001b[0;34m.\u001b[0m\u001b[0mPCA\u001b[0m\u001b[0;34m(\u001b[0m\u001b[0mx_tr\u001b[0m\u001b[0;34m,\u001b[0m\u001b[0;36m600\u001b[0m\u001b[0;34m)\u001b[0m\u001b[0;34m\u001b[0m\u001b[0m\n\u001b[1;32m     10\u001b[0m \u001b[0;34m\u001b[0m\u001b[0m\n",
      "\u001b[0;31mAttributeError\u001b[0m: module 'preprocessing' has no attribute 'pixelthresholdfilter'"
     ]
    }
   ],
   "source": [
    "\n",
    "training_data_raw = (np.genfromtxt('train.csv',delimiter=','))[1:]\n",
    "\n",
    "\n",
    "\n",
    "x_tr,y_train = (training_data_raw[0:40000,1:]),training_data_raw[0:40000,0]\n",
    "classes = 10\n",
    "x_tr = pr.pixelthresholdfilter(x_tr,147)\n",
    "x_train = pr.PCA(x_tr,600)\n",
    "\n",
    "learning_rate = 0.8\n",
    "theta,bias = np.zeros((np.shape(x_train)[1],classes)),np.zeros((1,classes))\n",
    "\n",
    "\n",
    "iteration = 1000\n",
    "print(\"Initial Cross Entropy\")\n",
    "print(cross_entropy(x_train,y_train,theta,bias))\n",
    "\n",
    "\n",
    "for i in range(iteration):\n",
    "    theta = theta -learning_rate*del_cross_entropy(x_train,y_train,theta,bias)\n",
    "    bias = bias-learning_rate*del_cross_entr_bias(x_train,y_train,theta,bias)\n",
    "    print(theta)\n",
    "    print(bias)\n",
    "print(\"Final cross entropy\")\n",
    "print(cross_entropy(x_train,y_train,theta,bias))\n",
    "\n",
    "\n",
    "\n",
    "l = hypothesis(x_train,theta,bias)\n",
    "\n",
    "\n",
    "\n",
    "train_prediction = np.argmax(l,axis=1)\n",
    "\n",
    "\n",
    "\n",
    "e= (np.equal(y_train,train_prediction))*1\n",
    "\n",
    "\n",
    "\n",
    "print(\"ACCURACY ON TRAINING sET\")\n",
    "print((np.sum(e))/len(y_train))\n",
    "\n",
    "\n",
    "\n",
    "x_t,y_t = (training_data_raw[40000:42000,1:]),training_data_raw[40000:42000,0]\n",
    "x_t = pr.pixelthresholdfilter(x_test,147)\n",
    "x_test = pr.PCA(x_t,600)\n",
    "l = hypothesis(x_test,theta,bias)\n",
    "d = np.argmax(l,axis=1)\n",
    "\n",
    "e= (np.equal(y_t,d))*1\n",
    "\n",
    "\n",
    "\n",
    "print(\"ACCURACY ON Testing sET\")\n",
    "print((np.sum(e))/len(y_t))\n"
   ]
  },
  {
   "cell_type": "code",
   "execution_count": 7,
   "metadata": {},
   "outputs": [
    {
     "data": {
      "text/plain": [
       "array([[-1.41421356, -1.41421356],\n",
       "       [ 0.        ,  0.        ],\n",
       "       [ 1.41421356,  1.41421356]])"
      ]
     },
     "execution_count": 7,
     "metadata": {},
     "output_type": "execute_result"
    }
   ],
   "source": []
  },
  {
   "cell_type": "code",
   "execution_count": null,
   "metadata": {},
   "outputs": [],
   "source": []
  }
 ],
 "metadata": {
  "kernelspec": {
   "display_name": "Python 2",
   "language": "python",
   "name": "python2"
  },
  "language_info": {
   "codemirror_mode": {
    "name": "ipython",
    "version": 3
   },
   "file_extension": ".py",
   "mimetype": "text/x-python",
   "name": "python",
   "nbconvert_exporter": "python",
   "pygments_lexer": "ipython3",
   "version": "3.5.2"
  }
 },
 "nbformat": 4,
 "nbformat_minor": 2
}
