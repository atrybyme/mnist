{
 "cells": [
  {
   "cell_type": "code",
   "execution_count": 9,
   "metadata": {},
   "outputs": [],
   "source": [
    "import pickle\n",
    "import numpy as np\n",
    "from keras.models import Model\n",
    "from keras.layers import Dense,Input,add,Flatten,Dropout,Activation\n",
    "from keras.layers import GlobalAveragePooling2D\n",
    "from keras.layers.convolutional import Conv2D\n",
    "from keras.layers.convolutional import MaxPooling2D\n",
    "from keras.utils import np_utils\n",
    "from keras.layers.normalization import BatchNormalization"
   ]
  },
  {
   "cell_type": "code",
   "execution_count": 10,
   "metadata": {},
   "outputs": [],
   "source": [
    "def residual_block_same(input_data,output_channel):\n",
    "    norm_lyr_0 = BatchNormalization()(input_data)\n",
    "    relu_lyr_0 = Activation('relu')(norm_lyr_0)\n",
    "    conv_1 = Conv2D(output_channel,(3,3),padding='same')(relu_lyr_0)\n",
    "    norm_lyr_1 = BatchNormalization()(conv_1)\n",
    "    relu_lyr_1 = Activation('relu')(norm_lyr_1)\n",
    "    conv_2 = Conv2D(output_channel,(3,3),padding='same')(relu_lyr_1)\n",
    "    block = add([conv_2,input_data])\n",
    "    return block\n",
    "def residual_block_increase(input_data,output_channel):\n",
    "    projection = Conv2D(output_channel,(1,1),strides=(2,2),padding='same')(input_data)\n",
    "    norm_lyr_0 = BatchNormalization()(input_data)\n",
    "    relu_lyr_0 = Activation('relu')(norm_lyr_0)\n",
    "    conv_1 = Conv2D(output_channel,(3,3),strides=(2,2),padding='same')(relu_lyr_0)\n",
    "    norm_lyr_1 = BatchNormalization()(conv_1)\n",
    "    relu_lyr_1 = Activation('relu')(norm_lyr_1)\n",
    "    conv_2 = Conv2D(output_channel,(3,3),padding='same')(relu_lyr_1)\n",
    "    block = add([conv_2,projection])\n",
    "    return block"
   ]
  },
  {
   "cell_type": "code",
   "execution_count": 11,
   "metadata": {},
   "outputs": [],
   "source": [
    "training_data_raw = (np.genfromtxt('train.csv',delimiter=','))[1:]\n",
    "testing_data_raw = (np.genfromtxt('test.csv',delimiter=','))[1:]"
   ]
  },
  {
   "cell_type": "code",
   "execution_count": 22,
   "metadata": {},
   "outputs": [],
   "source": [
    "x_train1,y = (training_data_raw[:,1:])/255,training_data_raw[:,0]\n",
    "y_train = np_utils.to_categorical(y)\n",
    "x_train= np.reshape(x_train1,(42000,28,28,1))\n",
    "x_test = np.reshape((testing_data_raw/255),(testing_data_raw.shape[0],28,28,1))"
   ]
  },
  {
   "cell_type": "code",
   "execution_count": 16,
   "metadata": {},
   "outputs": [],
   "source": [
    "input_details = Input(shape=(28,28,1))\n",
    "x=Conv2D(16,(3,3),padding='same')(input_details)\n",
    "x = Dropout(0.4)(x)\n",
    "for _ in range(5):\n",
    "    x=residual_block_same(x,16)\n",
    "x = residual_block_increase(x,32)\n",
    "for _ in range(4):\n",
    "    x=residual_block_same(x,32)\n",
    "x = residual_block_increase(x,64)\n",
    "\n",
    "for _ in range(4):\n",
    "    x=residual_block_same(x,64)\n",
    "\n",
    "x = BatchNormalization()(x)\n",
    "x = Activation('relu')(x)\n",
    "x = Dropout(0.50)(x)\n",
    "x = GlobalAveragePooling2D()(x)\n",
    "x = Dense(10,activation='softmax')(x)\n",
    "full_model = Model(input_details,x)\n",
    "full_model.compile(loss='categorical_crossentropy',optimizer='adam',metrics=['accuracy'])"
   ]
  },
  {
   "cell_type": "code",
   "execution_count": 24,
   "metadata": {},
   "outputs": [
    {
     "name": "stdout",
     "output_type": "stream",
     "text": [
      "Train on 41580 samples, validate on 420 samples\n",
      "Epoch 1/1\n",
      "41580/41580 [==============================] - 75s 2ms/step - loss: 0.0187 - acc: 0.9940 - val_loss: 0.0635 - val_acc: 0.9857\n",
      "42000/42000 [==============================] - 26s 623us/step\n",
      "ACCURACY ON Training sET 0.9853333333333333\n",
      "28000/28000 [==============================] - 19s 695us/step\n"
     ]
    }
   ],
   "source": [
    "\n",
    "full_model.fit(x_train,y_train,batch_size=100,epochs=1,verbose=1,validation_split=0.01)\n",
    "l = full_model.predict(x_train,verbose=1,batch_size=100)\n",
    "train_prediction = np.argmax(l,axis=1)\n",
    "e= (np.equal(np.argmax(y_train,axis=1),train_prediction))*1\n",
    "print(\"ACCURACY ON Training sET\",(np.sum(e))/len(y_train))\n",
    "\n",
    "l = full_model.predict(x_test,verbose=1)\n",
    "prediction_test= np.reshape((np.argmax(l,axis=1)),(x_test.shape[0],1))\n",
    "np.savetxt('cnn_prediction1.csv',prediction_test,delimiter=',')\n"
   ]
  },
  {
   "cell_type": "code",
   "execution_count": null,
   "metadata": {},
   "outputs": [],
   "source": []
  }
 ],
 "metadata": {
  "kernelspec": {
   "display_name": "Python 3",
   "language": "python",
   "name": "python3"
  },
  "language_info": {
   "codemirror_mode": {
    "name": "ipython",
    "version": 3
   },
   "file_extension": ".py",
   "mimetype": "text/x-python",
   "name": "python",
   "nbconvert_exporter": "python",
   "pygments_lexer": "ipython3",
   "version": "3.5.2"
  }
 },
 "nbformat": 4,
 "nbformat_minor": 2
}
